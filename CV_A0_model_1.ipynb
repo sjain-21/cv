{
  "nbformat": 4,
  "nbformat_minor": 0,
  "metadata": {
    "colab": {
      "provenance": [],
      "gpuType": "T4",
      "include_colab_link": true
    },
    "kernelspec": {
      "name": "python3",
      "display_name": "Python 3"
    },
    "language_info": {
      "name": "python"
    },
    "accelerator": "GPU"
  },
  "cells": [
    {
      "cell_type": "markdown",
      "metadata": {
        "id": "view-in-github",
        "colab_type": "text"
      },
      "source": [
        "<a href=\"https://colab.research.google.com/github/sjain-21/cv/blob/main/CV_A0_model_1.ipynb\" target=\"_parent\"><img src=\"https://colab.research.google.com/assets/colab-badge.svg\" alt=\"Open In Colab\"/></a>"
      ]
    },
    {
      "cell_type": "markdown",
      "source": [
        "# Model 1: Segment Anything Model (SAM)\n",
        "\n",
        "---\n",
        "\n",
        "[![GitHub](https://badges.aleen42.com/src/github.svg)](https://github.com/facebookresearch/segment-anything) [![arXiv](https://img.shields.io/badge/arXiv-2304.02643-b31b1b.svg)](https://arxiv.org/abs/2304.02643)\n",
        "\n",
        "Segment Anything Model (SAM): a new AI model from Meta AI that can \"cut out\" any object, in any image, with a single click. SAM is a promptable segmentation system with zero-shot generalization to unfamiliar objects and images, without the need for additional training. This notebook is an extension of the [official notebook](https://colab.research.google.com/github/facebookresearch/segment-anything/blob/main/notebooks/automatic_mask_generator_example.ipynb) prepared by Meta AI.\n",
        "\n",
        "## Use GPU Acceleration\n",
        "\n",
        "If you are running this notebook in Google Colab, navigate to `Edit` -> `Notebook settings` -> `Hardware accelerator`, set it to `GPU`, and then click `Save`. This will ensure your notebook uses a GPU, which will significantly speed up model training times.\n",
        "\n",
        "## Steps in this Tutorial\n",
        "\n",
        "In this tutorial, we are going to cover:\n",
        "\n",
        "- **Before you start** - Make sure you have access to the GPU\n",
        "- Install Segment Anything Model (SAM)\n",
        "- Download Example Data\n",
        "- Load Model\n",
        "- Automated Mask Generation\n",
        "\n",
        "## Let's begin!"
      ],
      "metadata": {
        "id": "l8Ulwu_QX3eE"
      }
    },
    {
      "cell_type": "markdown",
      "source": [
        "## Before you start\n",
        "\n",
        "Let's make sure that we have access to GPU. We can use `nvidia-smi` command to do that. In case of any problems navigate to `Edit` -> `Notebook settings` -> `Hardware accelerator`, set it to `GPU`, and then click `Save`."
      ],
      "metadata": {
        "id": "IrdGZ7-LX_wB"
      }
    },
    {
      "cell_type": "code",
      "source": [
        "!nvidia-smi"
      ],
      "metadata": {
        "id": "4tpj_3aSXpR2"
      },
      "execution_count": null,
      "outputs": []
    },
    {
      "cell_type": "markdown",
      "source": [
        "**NOTE:** To make it easier for us to manage datasets, images and models we create a `HOME` constant."
      ],
      "metadata": {
        "id": "XvDRzQaEYPv5"
      }
    },
    {
      "cell_type": "code",
      "source": [
        "import os\n",
        "HOME = os.getcwd()\n",
        "print(\"HOME:\", HOME)"
      ],
      "metadata": {
        "id": "fKvifG5GYBo4"
      },
      "execution_count": null,
      "outputs": []
    },
    {
      "cell_type": "markdown",
      "source": [
        "## Install Segment Anything Model (SAM) and other dependencies"
      ],
      "metadata": {
        "id": "gKrJoKdpYQ_H"
      }
    },
    {
      "cell_type": "code",
      "source": [
        "%cd {HOME}\n",
        "\n",
        "import sys\n",
        "!{sys.executable} -m pip install 'git+https://github.com/facebookresearch/segment-anything.git'"
      ],
      "metadata": {
        "id": "NmMt5Y_9YK7k"
      },
      "execution_count": null,
      "outputs": []
    },
    {
      "cell_type": "code",
      "source": [
        "!pip install -q jupyter_bbox_widget roboflow dataclasses-json supervision"
      ],
      "metadata": {
        "id": "arM2_4UEYMnq"
      },
      "execution_count": null,
      "outputs": []
    },
    {
      "cell_type": "markdown",
      "source": [
        "## Download the SAM model"
      ],
      "metadata": {
        "id": "ac5SVUHWYb_q"
      }
    },
    {
      "cell_type": "code",
      "source": [
        "%cd {HOME}\n",
        "!mkdir {HOME}/weights\n",
        "%cd {HOME}/weights\n",
        "\n",
        "!wget -q https://dl.fbaipublicfiles.com/segment_anything/sam_vit_h_4b8939.pth"
      ],
      "metadata": {
        "id": "Yuy49za2YXTE"
      },
      "execution_count": null,
      "outputs": []
    },
    {
      "cell_type": "code",
      "source": [
        "import os\n",
        "\n",
        "CHECKPOINT_PATH = os.path.join(HOME, \"weights\", \"sam_vit_h_4b8939.pth\")\n",
        "print(CHECKPOINT_PATH, \"; exist:\", os.path.isfile(CHECKPOINT_PATH))"
      ],
      "metadata": {
        "id": "tMd6E9j4YZSc"
      },
      "execution_count": null,
      "outputs": []
    },
    {
      "cell_type": "markdown",
      "source": [
        "## Download Example Data\n",
        "\n",
        "**NONE:** Let's download few example images. Feel free to use your images or videos."
      ],
      "metadata": {
        "id": "OQLgetGuYnX0"
      }
    },
    {
      "cell_type": "code",
      "source": [
        "%cd {HOME}\n",
        "!mkdir {HOME}/data\n",
        "%cd {HOME}/data\n",
        "\n",
        "!wget -q https://upload.wikimedia.org/wikipedia/commons/thumb/e/e9/Times_Sq_Feb_2017_4.jpg/640px-Times_Sq_Feb_2017_4.jpg\n",
        "!wget -q https://upload.wikimedia.org/wikipedia/commons/thumb/6/6b/Liberty_Island_photo_Don_Ramey_Logan.jpg/640px-Liberty_Island_photo_Don_Ramey_Logan.jpg"
      ],
      "metadata": {
        "id": "WcqJ6teSYg75"
      },
      "execution_count": null,
      "outputs": []
    },
    {
      "cell_type": "markdown",
      "source": [
        "## Load model"
      ],
      "metadata": {
        "id": "N_XPzSH5ZOv9"
      }
    },
    {
      "cell_type": "code",
      "source": [
        "import torch\n",
        "\n",
        "DEVICE = torch.device('cuda:0' if torch.cuda.is_available() else 'cpu')\n",
        "MODEL_TYPE = \"vit_h\""
      ],
      "metadata": {
        "id": "jWRqd0AnYje3"
      },
      "execution_count": null,
      "outputs": []
    },
    {
      "cell_type": "code",
      "source": [
        "from segment_anything import sam_model_registry, SamAutomaticMaskGenerator, SamPredictor\n",
        "\n",
        "sam = sam_model_registry[MODEL_TYPE](checkpoint=CHECKPOINT_PATH).to(device=DEVICE)"
      ],
      "metadata": {
        "id": "RpiScfdWZSVC"
      },
      "execution_count": null,
      "outputs": []
    },
    {
      "cell_type": "markdown",
      "source": [
        "## Automated Mask Generation\n",
        "\n",
        "To run automatic mask generation, provide a SAM model to the `SamAutomaticMaskGenerator` class. Set the path below to the SAM checkpoint. Running on CUDA and with the default model is recommended."
      ],
      "metadata": {
        "id": "cVneGD0KZVjQ"
      }
    },
    {
      "cell_type": "code",
      "source": [
        "mask_generator = SamAutomaticMaskGenerator(sam)"
      ],
      "metadata": {
        "id": "Ms94u9wxZTxt"
      },
      "execution_count": null,
      "outputs": []
    },
    {
      "cell_type": "code",
      "source": [
        "import os\n",
        "\n",
        "IMAGE_NAME1 = \"640px-Times_Sq_Feb_2017_4.jpg\"\n",
        "IMAGE_NAME2 = \"640px-Liberty_Island_photo_Don_Ramey_Logan.jpg\"\n",
        "\n",
        "IMAGE_PATH1 = os.path.join(HOME, \"data\", IMAGE_NAME1)\n",
        "IMAGE_PATH2 = os.path.join(HOME, \"data\", IMAGE_NAME2)"
      ],
      "metadata": {
        "id": "dzMmoVTYZXf6"
      },
      "execution_count": null,
      "outputs": []
    },
    {
      "cell_type": "markdown",
      "source": [
        "### Generate masks with SAM"
      ],
      "metadata": {
        "id": "JpKAt8IUZanN"
      }
    },
    {
      "cell_type": "code",
      "source": [
        "import cv2\n",
        "import supervision as sv\n",
        "\n",
        "#Image 1 segmentation\n",
        "image_bgr1 = cv2.imread(IMAGE_PATH1)\n",
        "image_rgb1 = cv2.cvtColor(image_bgr1, cv2.COLOR_BGR2RGB)\n",
        "\n",
        "sam_result1 = mask_generator.generate(image_rgb1)\n",
        "\n",
        "#Image 2 segmentation\n",
        "image_bgr2 = cv2.imread(IMAGE_PATH2)\n",
        "image_rgb2 = cv2.cvtColor(image_bgr2, cv2.COLOR_BGR2RGB)\n",
        "\n",
        "sam_result2 = mask_generator.generate(image_rgb2)"
      ],
      "metadata": {
        "id": "dwb97f_3ZYpc"
      },
      "execution_count": null,
      "outputs": []
    },
    {
      "cell_type": "markdown",
      "source": [
        "### Output format"
      ],
      "metadata": {
        "id": "dIVHqOfOZgFO"
      }
    },
    {
      "cell_type": "markdown",
      "source": [
        "`SamAutomaticMaskGenerator` returns a `list` of masks, where each mask is a `dict` containing various information about the mask:\n",
        "\n",
        "* `segmentation` - `[np.ndarray]` - the mask with `(W, H)` shape, and `bool` type\n",
        "* `area` - `[int]` - the area of the mask in pixels\n",
        "* `bbox` - `[List[int]]` - the boundary box of the mask in `xywh` format\n",
        "* `predicted_iou` - `[float]` - the model's own prediction for the quality of the mask\n",
        "* `point_coords` - `[List[List[float]]]` - the sampled input point that generated this mask\n",
        "* `stability_score` - `[float]` - an additional measure of mask quality\n",
        "* `crop_box` - `List[int]` - the crop of the image used to generate this mask in `xywh` format"
      ],
      "metadata": {
        "id": "puDSIFicZpni"
      }
    },
    {
      "cell_type": "code",
      "source": [
        "print(sam_result1[0].keys())"
      ],
      "metadata": {
        "id": "YkD0eunJZp6d"
      },
      "execution_count": null,
      "outputs": []
    },
    {
      "cell_type": "markdown",
      "source": [
        "### Results visualisation with Supervision\n",
        "\n",
        "As of version `0.5.0` Supervision has native support for SAM."
      ],
      "metadata": {
        "id": "odDcdkuaZu3O"
      }
    },
    {
      "cell_type": "code",
      "source": [
        "mask_annotator = sv.MaskAnnotator(color_lookup = sv.ColorLookup.INDEX)\n",
        "\n",
        "detections1 = sv.Detections.from_sam(sam_result=sam_result1)\n",
        "\n",
        "annotated_image1 = mask_annotator.annotate(scene=image_bgr1.copy(), detections=detections1)\n",
        "\n",
        "sv.plot_images_grid(\n",
        "    images=[image_bgr1, annotated_image1],\n",
        "    grid_size=(1, 2),\n",
        "    titles=['source image', 'segmented image']\n",
        ")"
      ],
      "metadata": {
        "id": "Uo1X8v6MZuvd"
      },
      "execution_count": null,
      "outputs": []
    },
    {
      "cell_type": "code",
      "source": [
        "detections2 = sv.Detections.from_sam(sam_result=sam_result2)\n",
        "\n",
        "annotated_image2 = mask_annotator.annotate(scene=image_bgr2.copy(), detections=detections2)\n",
        "\n",
        "sv.plot_images_grid(\n",
        "    images=[image_bgr2, annotated_image2],\n",
        "    grid_size=(1, 2),\n",
        "    titles=['source image', 'segmented image']\n",
        ")"
      ],
      "metadata": {
        "id": "K6D4f9NKZ8rC"
      },
      "execution_count": null,
      "outputs": []
    },
    {
      "cell_type": "code",
      "source": [],
      "metadata": {
        "id": "m5TVhkxIFB5X"
      },
      "execution_count": null,
      "outputs": []
    }
  ]
}