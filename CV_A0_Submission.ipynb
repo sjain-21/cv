{
  "nbformat": 4,
  "nbformat_minor": 0,
  "metadata": {
    "colab": {
      "provenance": [],
      "include_colab_link": true
    },
    "kernelspec": {
      "name": "python3",
      "display_name": "Python 3"
    },
    "accelerator": "GPU"
  },
  "cells": [
    {
      "cell_type": "markdown",
      "metadata": {
        "id": "view-in-github",
        "colab_type": "text"
      },
      "source": [
        "<a href=\"https://colab.research.google.com/github/sjain-21/cv/blob/main/CV_A0_Submission.ipynb\" target=\"_parent\"><img src=\"https://colab.research.google.com/assets/colab-badge.svg\" alt=\"Open In Colab\"/></a>"
      ]
    },
    {
      "cell_type": "markdown",
      "metadata": {
        "id": "YPHN7PJgKOzb"
      },
      "source": [
        "# Submit Your Early Assignment\n",
        "\n",
        "Complete the assignment by following the steps outlined below. Save and submit your work as an ipynb file when finished. You are expected to complete this assignment in under one hour.\n",
        "\n",
        "## Step 0: Download the Image from the Given URL, setting up Notebooks\n",
        "Retrieve the image from this link: [The Mysterious Painting](https://upload.wikimedia.org/wikipedia/en/7/74/PicassoGuernica.jpg)\n",
        "\n",
        "Next, go through each of the three provided notebooks. Combine them into a new notebook and configure your environment according to the specifications for the tasks below.\n",
        "\n",
        "## Step 1: Artist Recognition with the SigLip Model\n",
        "Utilize the SigLIP model(CLIP with Sigmoid activation) to identify the artist of the painting from the list of artists provided below. Display the prediction accuracy. The expected output is the artist's name, denoted as [ARTIST].\n",
        "\n",
        "Use the following Possible Artist Descriptions for zero-shot classification:\n",
        "```python\n",
        "descriptions = [\n",
        "  \"a painting by Leonardo da Vinci\",\n",
        "  \"a painting by Michelangelo\",\n",
        "  \"a painting by Vincent van Gogh\",\n",
        "  \"a painting by Pablo Picasso\",\n",
        "  \"a painting by Rembrandt\",\n",
        "  \"a painting by Claude Monet\"\n",
        "]\n",
        "```\n",
        "\n",
        "## Step 2: Style-Based Object or Scene Generation\n",
        "Once you've identified the [ARTIST], use this information to run the Stable Diffusion model. Create an object or scene (of your choice) inspired by the style of the identified artist. The output for this step should be an image, labeled as [GEN_IMAGE].\n",
        "\n",
        "## Step 3: Image Segmentation with SAM Model\n",
        "Take the generated image [GEN_IMAGE] from the previous step, and apply the SAM model for image segmentation. Present the segmentation masks. The result of this task should be a segmented image, denoted as [SEGMENT]. If you face issues such as CUDA running out of memory during SAM step, try to resize the image to a smaller scale before SAM.\n"
      ]
    },
    {
      "cell_type": "code",
      "source": [],
      "metadata": {
        "id": "Kd5CaWwAUP9e"
      },
      "execution_count": null,
      "outputs": []
    }
  ]
}